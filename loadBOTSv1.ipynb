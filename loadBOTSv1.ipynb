{
 "cells": [
  {
   "cell_type": "code",
   "execution_count": 1,
   "id": "10efb6ad-168c-4fef-af79-fadfaedf446b",
   "metadata": {
    "execution": {
     "iopub.execute_input": "2025-09-21T15:30:41.227884Z",
     "iopub.status.busy": "2025-09-21T15:30:41.227583Z",
     "iopub.status.idle": "2025-09-21T15:30:44.413245Z",
     "shell.execute_reply": "2025-09-21T15:30:44.412430Z",
     "shell.execute_reply.started": "2025-09-21T15:30:41.227853Z"
    }
   },
   "outputs": [],
   "source": [
    "!pip -q install s3fs pyarrow scikit-learn --upgrade"
   ]
  },
  {
   "cell_type": "code",
   "execution_count": 2,
   "id": "bbe2de20-d328-4fa8-b6e3-006e787d7c21",
   "metadata": {
    "execution": {
     "iopub.execute_input": "2025-09-21T15:30:44.414655Z",
     "iopub.status.busy": "2025-09-21T15:30:44.414269Z",
     "iopub.status.idle": "2025-09-21T15:30:51.357229Z",
     "shell.execute_reply": "2025-09-21T15:30:51.356436Z",
     "shell.execute_reply.started": "2025-09-21T15:30:44.414627Z"
    }
   },
   "outputs": [
    {
     "name": "stdout",
     "output_type": "stream",
     "text": [
      "uploaded: s3://datalakethreathunting/botsv1/raw/stream-dns.csv.gz\n",
      "uploaded: s3://datalakethreathunting/botsv1/raw/stream-http.csv.gz\n",
      "uploaded: s3://datalakethreathunting/botsv1/raw/suricata.csv.gz\n",
      "uploaded: s3://datalakethreathunting/botsv1/raw/WinSecurity.csv.gz\n",
      "uploaded: s3://datalakethreathunting/botsv1/raw/sysmon.csv.gz\n"
     ]
    }
   ],
   "source": [
    "import boto3, os, glob\n",
    "\n",
    "BUCKET = \"datalakethreathunting\"\n",
    "PREFIX = \"botsv1/raw/\" \n",
    "\n",
    "s3 = boto3.client(\"s3\")\n",
    "for path in glob.glob(\"/tmp/botsv1/*.gz\"):\n",
    "    key = PREFIX + os.path.basename(path)\n",
    "    s3.upload_file(path, BUCKET, key, ExtraArgs={\"ACL\": \"bucket-owner-full-control\"})\n",
    "    print(\"uploaded:\", f\"s3://{BUCKET}/{key}\")\n"
   ]
  },
  {
   "cell_type": "code",
   "execution_count": 3,
   "id": "77db55fd-c4d4-4f4f-a14f-d3fc1f6c0f3a",
   "metadata": {
    "execution": {
     "iopub.execute_input": "2025-09-21T15:30:51.358651Z",
     "iopub.status.busy": "2025-09-21T15:30:51.358043Z",
     "iopub.status.idle": "2025-09-21T15:30:51.363069Z",
     "shell.execute_reply": "2025-09-21T15:30:51.361659Z",
     "shell.execute_reply.started": "2025-09-21T15:30:51.358626Z"
    }
   },
   "outputs": [
    {
     "name": "stdout",
     "output_type": "stream",
     "text": [
      "Done\n"
     ]
    }
   ],
   "source": [
    "BOTSV1_LOCAL_GLOBS = []\n",
    "BOTSV1_S3_PREFIX = \"s3://datalakethreathunting/botsv1/raw/\"\n",
    "BOTSV1_MAX_PER_FILE = 100_000   # avoid to hit OOM\n",
    "print(\"Done\")"
   ]
  },
  {
   "cell_type": "code",
   "execution_count": null,
   "id": "eab98611-a3c1-493c-a42b-1b42ae2b32b3",
   "metadata": {},
   "outputs": [],
   "source": []
  },
  {
   "cell_type": "code",
   "execution_count": null,
   "id": "807eefbf-4727-4dd5-9ed3-1c03edc22b92",
   "metadata": {},
   "outputs": [],
   "source": []
  }
 ],
 "metadata": {
  "kernelspec": {
   "display_name": "Python 3 (ipykernel)",
   "language": "python",
   "name": "python3"
  },
  "language_info": {
   "codemirror_mode": {
    "name": "ipython",
    "version": 3
   },
   "file_extension": ".py",
   "mimetype": "text/x-python",
   "name": "python",
   "nbconvert_exporter": "python",
   "pygments_lexer": "ipython3",
   "version": "3.12.9"
  }
 },
 "nbformat": 4,
 "nbformat_minor": 5
}
